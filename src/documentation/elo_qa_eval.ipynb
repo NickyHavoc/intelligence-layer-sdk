{
 "cells": [
  {
   "cell_type": "markdown",
   "metadata": {},
   "source": [
    "# User Story for Calculating ELO Scores of QA Configurations for Ranking \n",
    "\n",
    "As a user of the Intelligence Layer (IL), I want to evaluate how well different configurations perform on a QA task with the given input data.\n",
    "A configuration is a combination of a model with a fixed set of parameters.\n",
    "In the following, we focus on comparing setups which differ only in the chosen model.\n",
    "\n",
    "We provide multiple inputs consisting of a longer texts and a questions related to each of those texts, as well as the expected answers.\n",
    "A Llama-model is used as a grader to decide which answer of two different models is better.\n",
    "The aggregation of all comparisons results in [ELO](https://en.wikipedia.org/wiki/Elo_rating_system) scores and win rates of the models.\n",
    "\n",
    "In this notebook, we go through the following steps: First, we create a set of examples of texts with a relevant question for each (Step 0), after which we use the models to generate answers (Step 1). The given answers are then compared against each other and judged by the Llama model (Step 2), which will result in a final ELO ranking and win rate (Step 3). Lastly, we include a new model in the evaluation without having to re-evaluate the previous models against each other, as is typically done in ELO rankings (Step 4).\n",
    "\n",
    "## Evaluating classification use-cases\n",
    "\n",
    "Before we can begin, we need to load the Aleph-Alpha access token from the environment and create the client."
   ]
  },
  {
   "cell_type": "code",
   "execution_count": 1,
   "metadata": {},
   "outputs": [],
   "source": [
    "from os import getenv\n",
    "\n",
    "from aleph_alpha_client import Client\n",
    "from dotenv import load_dotenv\n",
    "\n",
    "from intelligence_layer.connectors import LimitedConcurrencyClient\n",
    "from intelligence_layer.evaluation.evaluation.evaluator.elo_evaluator import Matches\n",
    "\n",
    "load_dotenv()\n",
    "\n",
    "aa_client = Client(getenv(\"AA_TOKEN\"))\n",
    "limited_concurrency_client = LimitedConcurrencyClient(aa_client)"
   ]
  },
  {
   "cell_type": "markdown",
   "metadata": {},
   "source": [
    "# Step 0 – Data set\n",
    "\n",
    "During the four steps of determining the ELO scores, we make use of the following four repositories for managing the intermediate data.\n",
    "\n",
    "First, we create and store an input dataset into a so-called `dataset_repository`.\n",
    "\n",
    "The IL will read the input dataset and produce outputs for each model, which will be stored in a `run_repository`.\n",
    "\n",
    "The result from the previous step can now be evaluated, in this case with an ELO evaluator (`EloQaEvaluator`). The evaluation is stored in the `eval_repository`.\n",
    "\n",
    "Finally, the evaluations are aggregated and stored in the `aggregation_repository`. The aggregation contains the ELO score and winning rate of each model along with additional metadata."
   ]
  },
  {
   "cell_type": "code",
   "execution_count": 2,
   "metadata": {},
   "outputs": [],
   "source": [
    "from intelligence_layer.evaluation import (\n",
    "    InMemoryAggregationRepository,\n",
    "    InMemoryDatasetRepository,\n",
    "    InMemoryEvaluationRepository,\n",
    "    InMemoryRunRepository,\n",
    ")\n",
    "\n",
    "dataset_repository = InMemoryDatasetRepository()\n",
    "run_repository = InMemoryRunRepository()\n",
    "evaluation_repository = InMemoryEvaluationRepository()\n",
    "aggregation_repository = InMemoryAggregationRepository()"
   ]
  },
  {
   "cell_type": "markdown",
   "metadata": {},
   "source": [
    "Here, we fill the `dataset_repository` with two `Example`s. Each `Example` contains a text, a question regarding said text, as well as an expected answer.\n",
    "The newly created dataset in the repository has a unique id, which is stored in the `dataset_id` variable."
   ]
  },
  {
   "cell_type": "code",
   "execution_count": 3,
   "metadata": {},
   "outputs": [],
   "source": [
    "from intelligence_layer.core import Language\n",
    "from intelligence_layer.evaluation import Example\n",
    "from intelligence_layer.examples.qa.single_chunk_qa import SingleChunkQaInput\n",
    "\n",
    "qa_input_text_1 = \"\"\"Surface micromachining\n",
    "\n",
    "Surface micromachining builds microstructures by deposition and etching structural layers over a substrate.[1] This is different from Bulk micromachining, in which a silicon substrate wafer is selectively etched to produce structures.\n",
    "\n",
    "Layers\n",
    "\n",
    "Generally, polysilicon is used as one of the substrate layers while silicon dioxide is used as a sacrificial layer. The sacrificial layer is removed or etched out to create any necessary void in the thickness direction. Added layers tend to vary in size from 2-5 micrometres. The main advantage of this machining process is the ability to build electronic and mechanical components (functions) on the same substrate. Surface micro-machined components are smaller compared to their bulk micro-machined counterparts.\n",
    "\n",
    "As the structures are built on top of the substrate and not inside it, the substrate's properties are not as important as in bulk micro-machining. Expensive silicon wafers can be replaced by cheaper substrates, such as glass or plastic. The size of the substrates may be larger than a silicon wafer, and surface micro-machining is used to produce thin-film transistors on large area glass substrates for flat panel displays. This technology can also be used for the manufacture of thin film solar cells, which can be deposited on glass, polyethylene terepthalate substrates or other non-rigid materials.\n",
    "\n",
    "Fabrication process\n",
    "\n",
    "Micro-machining starts with a silicon wafer or other substrate upon which new layers are grown. These layers are selectively etched by photo-lithography; either a wet etch involving an acid, or a dry etch involving an ionized gas (or plasma). Dry etching can combine chemical etching with physical etching or ion bombardment. Surface micro-machining involves as many layers as are needed with a different mask (producing a different pattern) on each layer. Modern integrated circuit fabrication uses this technique and can use as many as 100 layers. Micro-machining is a younger technology and usually uses no more than 5 or 6 layers. Surface micro-machining uses developed technology (although sometimes not enough for demanding applications) which is easily repeatable for volume production.\"\"\"\n",
    "\n",
    "example_1 = Example(\n",
    "    input=SingleChunkQaInput(\n",
    "        chunk=qa_input_text_1,\n",
    "        question=\"What is micromachining?\",\n",
    "        language=Language(\"en\"),\n",
    "    ),\n",
    "    expected_output=\"Surface micromachining builds microstructures by deposition and etching structural layers over a substrate. This is different from Bulk micromachining, in which a silicon substrate wafer is selectively etched to produce structures.\",\n",
    ")\n",
    "\n",
    "qa_input_text_2 = \"\"\"\n",
    "Silicon is a chemical element; it has symbol Si and atomic number 14. It is a hard, brittle crystalline solid with a blue-grey metallic luster, and is a non metal and semiconductor. It is a member of group 14 in the periodic table: carbon is above it; and germanium, tin, lead, and flerovium are below it. It is relatively unreactive.\n",
    "\n",
    "Because of its high chemical affinity for oxygen, it was not until 1823 that Jöns Jakob Berzelius was first able to prepare it and characterize it in pure form. Its oxides form a family of anions known as silicates. Its melting and boiling points of 1414 °C and 3265 °C, respectively, are the second highest among all the metalloids and nonmetals, being surpassed only by boron.[a]\n",
    "\n",
    "Silicon is the eighth most common element in the universe by mass, but very rarely occurs as the pure element in the Earth's crust. It is widely distributed in space in cosmic dusts, planetoids, and planets as various forms of silicon dioxide (silica) or silicates. More than 90% of the Earth's crust is composed of silicate minerals, making silicon the second most abundant element in the Earth's crust (about 28% by mass), after oxygen. \n",
    "\"\"\"\n",
    "\n",
    "example_2 = Example(\n",
    "    input=SingleChunkQaInput(\n",
    "        chunk=qa_input_text_2, question=\"What is silicon?\", language=Language(\"en\")\n",
    "    ),\n",
    "    expected_output=\"Silicon is a chemical element.\",\n",
    ")\n",
    "\n",
    "examples = [example_1, example_2]"
   ]
  },
  {
   "cell_type": "code",
   "execution_count": 4,
   "metadata": {},
   "outputs": [],
   "source": [
    "dataset_id = dataset_repository.create_dataset(\n",
    "    examples=examples, dataset_name=\"My-test-dataset\"\n",
    ").id"
   ]
  },
  {
   "cell_type": "code",
   "execution_count": 5,
   "metadata": {},
   "outputs": [],
   "source": [
    "# ensure that we got a valid dataset ID\n",
    "assert len(dataset_id) > 0, f\"The dataset with ID {dataset_id} is empty\""
   ]
  },
  {
   "cell_type": "markdown",
   "metadata": {},
   "source": [
    "Now that we stored the examples into the `dataset_repository`, we can retrieve them by the `dataset_id`"
   ]
  },
  {
   "cell_type": "code",
   "execution_count": 6,
   "metadata": {},
   "outputs": [
    {
     "name": "stdout",
     "output_type": "stream",
     "text": [
      "Example ID = 87012cf8-1b98-4c9f-8a5f-815aa0e76edb\n",
      "Input = chunk=\"Surface micromachining\\n\\nSurface micromachining builds microstructures by deposition and etching structural layers over a substrate.[1] This is different from Bulk micromachining, in which a silicon substrate wafer is selectively etched to produce structures.\\n\\nLayers\\n\\nGenerally, polysilicon is used as one of the substrate layers while silicon dioxide is used as a sacrificial layer. The sacrificial layer is removed or etched out to create any necessary void in the thickness direction. Added layers tend to vary in size from 2-5 micrometres. The main advantage of this machining process is the ability to build electronic and mechanical components (functions) on the same substrate. Surface micro-machined components are smaller compared to their bulk micro-machined counterparts.\\n\\nAs the structures are built on top of the substrate and not inside it, the substrate's properties are not as important as in bulk micro-machining. Expensive silicon wafers can be replaced by cheaper substrates, such as glass or plastic. The size of the substrates may be larger than a silicon wafer, and surface micro-machining is used to produce thin-film transistors on large area glass substrates for flat panel displays. This technology can also be used for the manufacture of thin film solar cells, which can be deposited on glass, polyethylene terepthalate substrates or other non-rigid materials.\\n\\nFabrication process\\n\\nMicro-machining starts with a silicon wafer or other substrate upon which new layers are grown. These layers are selectively etched by photo-lithography; either a wet etch involving an acid, or a dry etch involving an ionized gas (or plasma). Dry etching can combine chemical etching with physical etching or ion bombardment. Surface micro-machining involves as many layers as are needed with a different mask (producing a different pattern) on each layer. Modern integrated circuit fabrication uses this technique and can use as many as 100 layers. Micro-machining is a younger technology and usually uses no more than 5 or 6 layers. Surface micro-machining uses developed technology (although sometimes not enough for demanding applications) which is easily repeatable for volume production.\" question='What is micromachining?' language=Language(iso_639_1='en')\n",
      "Expected output = \"Surface micromachining builds microstructures by deposition and etching structural layers over a substrate. This is different from Bulk micromachining, in which a silicon substrate wafer is selectively etched to produce structures.\"\n",
      "\n",
      "Example ID = d91ae806-31bf-4e92-a40f-6a560dc68a95\n",
      "Input = chunk=\"\\nSilicon is a chemical element; it has symbol Si and atomic number 14. It is a hard, brittle crystalline solid with a blue-grey metallic luster, and is a non metal and semiconductor. It is a member of group 14 in the periodic table: carbon is above it; and germanium, tin, lead, and flerovium are below it. It is relatively unreactive.\\n\\nBecause of its high chemical affinity for oxygen, it was not until 1823 that Jöns Jakob Berzelius was first able to prepare it and characterize it in pure form. Its oxides form a family of anions known as silicates. Its melting and boiling points of 1414 °C and 3265 °C, respectively, are the second highest among all the metalloids and nonmetals, being surpassed only by boron.[a]\\n\\nSilicon is the eighth most common element in the universe by mass, but very rarely occurs as the pure element in the Earth's crust. It is widely distributed in space in cosmic dusts, planetoids, and planets as various forms of silicon dioxide (silica) or silicates. More than 90% of the Earth's crust is composed of silicate minerals, making silicon the second most abundant element in the Earth's crust (about 28% by mass), after oxygen. \\n\" question='What is silicon?' language=Language(iso_639_1='en')\n",
      "Expected output = \"Silicon is a chemical element.\"\n",
      "\n"
     ]
    }
   ],
   "source": [
    "for example in dataset_repository.examples(dataset_id, SingleChunkQaInput, str):\n",
    "    print(example)"
   ]
  },
  {
   "cell_type": "markdown",
   "metadata": {},
   "source": [
    "# Step 1 - Run Models\n",
    "\n",
    "Given a `dataset_repository` with examples, we can now generate the output of the models for all examples.\n",
    "First, we have to define which models we want to use. In this example, we use the _\"luminous-base-control\"_ model and the _\"luminous-supreme-control\"_ model.\n",
    " \n",
    "The previously created client is used to create a `Task` for each model. We use a `SingleChunkQa` task, meaning that in each task a model will give an answer to a question regarding a single chunk of text.\n",
    "These tasks are executed by a `Runner`, using the input dataset via the previously stored `dataset_id`.\n",
    "\n",
    "Tasks require a `run_repository` to store the output. The generated output is automatically stored when calling `run_dataset` on the `runners`. The output for each model will have a unique _\"run id\"_.\n",
    "In general, the output for each model consists of two parts. One part is a collection of example outputs. Each example outputs contains the `run_id`, `example_id`, and a field `output`. In this specific use-case, the `output` field contains the `answer` to the question. The other part is a _\"run overview\"_ with the run id stored as `id`, the `dataset_id`, and a description of the task, plus other metadata. "
   ]
  },
  {
   "cell_type": "code",
   "execution_count": 7,
   "metadata": {},
   "outputs": [
    {
     "name": "stderr",
     "output_type": "stream",
     "text": [
      "Running: 0it [00:00, ?it/s]"
     ]
    },
    {
     "name": "stderr",
     "output_type": "stream",
     "text": [
      "Running: 2it [00:21, 10.62s/it]\n",
      "Running: 2it [00:17,  8.68s/it]\n"
     ]
    }
   ],
   "source": [
    "from intelligence_layer.core import LuminousControlModel\n",
    "from intelligence_layer.evaluation.run.runner import Runner\n",
    "from intelligence_layer.examples.qa.single_chunk_qa import (\n",
    "    SingleChunkQa,\n",
    "    SingleChunkQaOutput,\n",
    ")\n",
    "\n",
    "models = [\n",
    "    LuminousControlModel(name=\"luminous-base-control-20240215\", client=aa_client),\n",
    "    LuminousControlModel(name=\"luminous-supreme-control-20240215\", client=aa_client),\n",
    "]\n",
    "\n",
    "for model in models:\n",
    "    runner = Runner[SingleChunkQaInput, SingleChunkQaOutput](\n",
    "        task=SingleChunkQa(model=model),\n",
    "        dataset_repository=dataset_repository,\n",
    "        run_repository=run_repository,\n",
    "        description=f\"QA with model {model.name}\",\n",
    "    )\n",
    "    runner.run_dataset(dataset_id)"
   ]
  },
  {
   "cell_type": "code",
   "execution_count": 8,
   "metadata": {},
   "outputs": [],
   "source": [
    "# ensure that all examples succeeded\n",
    "for run_overview in run_repository.run_overviews():\n",
    "    assert (\n",
    "        run_overview.failed_example_count == 0\n",
    "    ), f\"There are failed runs for run overview ID {run_overview.id}\""
   ]
  },
  {
   "cell_type": "markdown",
   "metadata": {},
   "source": [
    "The overviews and outputs can be retrieved via the unique run ids:"
   ]
  },
  {
   "cell_type": "code",
   "execution_count": 9,
   "metadata": {},
   "outputs": [
    {
     "name": "stdout",
     "output_type": "stream",
     "text": [
      "Run overview IDs saved in the run repository: ['74d288d3-7536-4a40-bfe4-ccc9b9e107b0', 'a63e12f6-ebf5-4c4d-a9b6-d58a45f07257']\n",
      "\n",
      "Run Overview ID = 74d288d3-7536-4a40-bfe4-ccc9b9e107b0\n",
      "Dataset ID = d99a3aff-619d-422b-8d69-daf5513b3942\n",
      "Start time = 2024-05-16 08:30:42.168784+00:00\n",
      "End time = 2024-05-16 08:31:03.416546+00:00\n",
      "Failed example count = 0\n",
      "Successful example count = 2\n",
      "Description = \"QA with model luminous-base-control-20240215\"\n",
      "\n",
      "Example ID=87012cf8-1b98-4c9f-8a5f-815aa0e76edb\n",
      "Related Run ID=74d288d3-7536-4a40-bfe4-ccc9b9e107b0\n",
      "Output=\"answer='Micromachining is a process of building microstructures by deposition and etching structural layers over a substrate.' highlights=[ScoredTextHighlight(start=24, end=131, score=1.0)]\"\n",
      "\n",
      "Example ID=d91ae806-31bf-4e92-a40f-6a560dc68a95\n",
      "Related Run ID=74d288d3-7536-4a40-bfe4-ccc9b9e107b0\n",
      "Output=\"answer='Silicon is a chemical element with symbol Si and atomic number 14. It is a hard, brittle crystalline solid with a blue-grey metallic luster, and is a non metal and semiconductor.' highlights=[ScoredTextHighlight(start=71, end=182, score=1.0)]\"\n",
      "\n",
      "Run Overview ID = a63e12f6-ebf5-4c4d-a9b6-d58a45f07257\n",
      "Dataset ID = d99a3aff-619d-422b-8d69-daf5513b3942\n",
      "Start time = 2024-05-16 08:31:03.417036+00:00\n",
      "End time = 2024-05-16 08:31:20.775926+00:00\n",
      "Failed example count = 0\n",
      "Successful example count = 2\n",
      "Description = \"QA with model luminous-supreme-control-20240215\"\n",
      "\n",
      "Example ID=87012cf8-1b98-4c9f-8a5f-815aa0e76edb\n",
      "Related Run ID=a63e12f6-ebf5-4c4d-a9b6-d58a45f07257\n",
      "Output=\"answer='Surface micromachining is a process of building microstructures by deposition and etching structural layers over a substrate.' highlights=[ScoredTextHighlight(start=24, end=131, score=1.0)]\"\n",
      "\n",
      "Example ID=d91ae806-31bf-4e92-a40f-6a560dc68a95\n",
      "Related Run ID=a63e12f6-ebf5-4c4d-a9b6-d58a45f07257\n",
      "Output=\"answer='Silicon is a chemical element with symbol Si and atomic number 14. It is a hard, brittle crystalline solid with a blue-grey metallic luster, and is a non metal and semiconductor.' highlights=[ScoredTextHighlight(start=71, end=182, score=1.0)]\"\n",
      "\n"
     ]
    }
   ],
   "source": [
    "print(\n",
    "    f\"Run overview IDs saved in the run repository: {run_repository.run_overview_ids()}\\n\"\n",
    ")\n",
    "\n",
    "for run_overview in run_repository.run_overviews():\n",
    "    print(run_overview)\n",
    "    for example_output in run_repository.example_outputs(\n",
    "        run_overview.id, SingleChunkQaOutput\n",
    "    ):\n",
    "        print(example_output)"
   ]
  },
  {
   "cell_type": "markdown",
   "metadata": {},
   "source": [
    "# Step 2 – Run Evaluation\n",
    "\n",
    "Now that we have generated the answers of all models for all examples in the `dataset_repository`, the next step is to evaluate those answers.\n",
    "The evaluation is done by an `Evaluator`. Here we are interested in the ELO score, which can be calculated using the `EloQaEvaluator`. For each example, the `EloQaEvaluator` takes the two answers of two different models and uses Llama to decide which answer is better. You can also implement your own `Evaluator` to exactly match your use case."
   ]
  },
  {
   "cell_type": "code",
   "execution_count": 10,
   "metadata": {},
   "outputs": [
    {
     "name": "stdout",
     "output_type": "stream",
     "text": [
      "IDs of stored evaluations: []\n"
     ]
    }
   ],
   "source": [
    "# this should demonstrate that there are no stored evaluations yet in our repository\n",
    "print(f\"IDs of stored evaluations: {evaluation_repository.evaluation_overview_ids()}\")"
   ]
  },
  {
   "cell_type": "code",
   "execution_count": 11,
   "metadata": {},
   "outputs": [],
   "source": [
    "from intelligence_layer.core.model import Llama3InstructModel\n",
    "from intelligence_layer.evaluation import IncrementalEvaluator\n",
    "from intelligence_layer.evaluation.evaluation.evaluator.incremental_elo_evaluator import IncrementalEloQaEvaluationLogic\n",
    "\n",
    "elo_qa_evaluation_logic = IncrementalEloQaEvaluationLogic(\n",
    "    model=Llama3InstructModel(name=\"llama-3-8b-instruct\")\n",
    ")\n",
    "\n",
    "evaluator = IncrementalEvaluator(\n",
    "    dataset_repository=dataset_repository,\n",
    "    run_repository=run_repository,\n",
    "    evaluation_repository=evaluation_repository,\n",
    "    description=\"ELO QA evaluation\",  # this description will be used later to query for specific evaluations\n",
    "    incremental_evaluation_logic=elo_qa_evaluation_logic,\n",
    ")"
   ]
  },
  {
   "cell_type": "code",
   "execution_count": 12,
   "metadata": {},
   "outputs": [
    {
     "name": "stdout",
     "output_type": "stream",
     "text": [
      "PAIRS <itertools.combinations object at 0x33ff72890>\n",
      "PLAYER A:  74d288d3-7536-4a40-bfe4-ccc9b9e107b0\n",
      "PLAYER B:  a63e12f6-ebf5-4c4d-a9b6-d58a45f07257\n",
      "example_id:  87012cf8-1b98-4c9f-8a5f-815aa0e76edb\n",
      "______________________\n",
      "PAIRS <itertools.combinations object at 0x33ff729d0>\n",
      "PLAYER A:  74d288d3-7536-4a40-bfe4-ccc9b9e107b0\n",
      "PLAYER B:  a63e12f6-ebf5-4c4d-a9b6-d58a45f07257\n",
      "example_id:  d91ae806-31bf-4e92-a40f-6a560dc68a95\n",
      "______________________\n"
     ]
    },
    {
     "name": "stderr",
     "output_type": "stream",
     "text": [
      "Evaluating: 2it [00:00,  2.98it/s]\n"
     ]
    }
   ],
   "source": [
    "evaluation_overview = evaluator.evaluate_runs(*run_repository.run_overview_ids())"
   ]
  },
  {
   "cell_type": "code",
   "execution_count": 13,
   "metadata": {},
   "outputs": [],
   "source": [
    "# ensure that for each example there are evaluated comparisons\n",
    "\n",
    "\n",
    "for example_evaluation in evaluation_repository.example_evaluations(\n",
    "    evaluation_overview.id, Matches\n",
    "):\n",
    "    assert isinstance(example_evaluation.result, Matches)\n",
    "    assert (\n",
    "        len(example_evaluation.result.comparison_evaluations) > 0\n",
    "    ), f\"There are no matches (comparisons) for example ID {example_evaluation.example_id}\""
   ]
  },
  {
   "cell_type": "markdown",
   "metadata": {},
   "source": [
    "The evaluation results can be retrieved via their unique ids:"
   ]
  },
  {
   "cell_type": "code",
   "execution_count": 14,
   "metadata": {},
   "outputs": [
    {
     "name": "stdout",
     "output_type": "stream",
     "text": [
      "Evaluation Overview ID = 12e1b780-3360-4801-990c-512b9fb524a7\n",
      "Start time = 2024-05-16 08:31:20.812654+00:00\n",
      "End time = 2024-05-16 08:31:21.501250+00:00\n",
      "Successful examples = 2\n",
      "Failed examples = 0\n",
      "Description = \"ELO QA evaluation\"\n",
      "Run Overviews={\n",
      "Run Overview ID = 74d288d3-7536-4a40-bfe4-ccc9b9e107b0\n",
      "Dataset ID = d99a3aff-619d-422b-8d69-daf5513b3942\n",
      "Start time = 2024-05-16 08:30:42.168784+00:00\n",
      "End time = 2024-05-16 08:31:03.416546+00:00\n",
      "Failed example count = 0\n",
      "Successful example count = 2\n",
      "Description = \"QA with model luminous-base-control-20240215\"\n",
      ", Run Overview ID = a63e12f6-ebf5-4c4d-a9b6-d58a45f07257\n",
      "Dataset ID = d99a3aff-619d-422b-8d69-daf5513b3942\n",
      "Start time = 2024-05-16 08:31:03.417036+00:00\n",
      "End time = 2024-05-16 08:31:20.775926+00:00\n",
      "Failed example count = 0\n",
      "Successful example count = 2\n",
      "Description = \"QA with model luminous-supreme-control-20240215\"\n",
      "}\n",
      "\n"
     ]
    }
   ],
   "source": [
    "for evaluation_overview in evaluation_repository.evaluation_overviews():\n",
    "    print(evaluation_overview)"
   ]
  },
  {
   "cell_type": "markdown",
   "metadata": {},
   "source": [
    "# Step 3 – Run Aggregation\n",
    "\n",
    "Finally, all individual evaluations are aggregated into metrics for each model - here, an ELO score and a win rate.\n",
    "The aggregation is defined in the same evaluator that we used before in Step 2."
   ]
  },
  {
   "cell_type": "code",
   "execution_count": 15,
   "metadata": {},
   "outputs": [
    {
     "name": "stdout",
     "output_type": "stream",
     "text": [
      "IDs of stored aggregated evaluations: []\n"
     ]
    }
   ],
   "source": [
    "# this should demonstrate that there are no stored aggregated evaluations yet in our repository\n",
    "print(\n",
    "    f\"IDs of stored aggregated evaluations: {aggregation_repository.aggregation_overview_ids()}\"\n",
    ")"
   ]
  },
  {
   "cell_type": "code",
   "execution_count": 16,
   "metadata": {},
   "outputs": [],
   "source": [
    "from intelligence_layer.evaluation import Aggregator\n",
    "from intelligence_layer.evaluation.aggregation.elo_aggregation import (\n",
    "    MatchesAggregationLogic,\n",
    ")\n",
    "\n",
    "aggregator = Aggregator(\n",
    "    evaluation_repository=evaluation_repository,\n",
    "    aggregation_repository=aggregation_repository,\n",
    "    description=\"ELO QA aggregation\",\n",
    "    aggregation_logic=MatchesAggregationLogic(),\n",
    ")\n",
    "\n",
    "aggregated_evaluation = aggregator.aggregate_evaluation(evaluation_overview.id)"
   ]
  },
  {
   "cell_type": "code",
   "execution_count": 17,
   "metadata": {},
   "outputs": [],
   "source": [
    "# ensure that there are no failed (aggregated) evaluations\n",
    "assert (\n",
    "    aggregated_evaluation.crashed_during_evaluation_count == 0\n",
    "), f\"There are crashed evaluations for aggregated evaluation ID {aggregated_evaluation.id}\"\n",
    "assert (\n",
    "    aggregated_evaluation.failed_evaluation_count == 0\n",
    "), f\"There are failed evaluations for aggregated evaluation ID {aggregated_evaluation.id}\"\n",
    "# ensure that the result contains ELO scores\n",
    "assert hasattr(\n",
    "    aggregated_evaluation.statistics, \"scores\"\n",
    "), f\"There are no scores for aggregated evaluation ID {aggregated_evaluation.id}\""
   ]
  },
  {
   "cell_type": "markdown",
   "metadata": {},
   "source": [
    "We can get an overview of each aggregation from the aggregation repository as follows. Note that we need to provide the type of the aggregation to enable the deserialization. The given `statistics` field of the evaluation result contains only the aggregated metrics for each model. "
   ]
  },
  {
   "cell_type": "code",
   "execution_count": 18,
   "metadata": {},
   "outputs": [
    {
     "name": "stdout",
     "output_type": "stream",
     "text": [
      "Aggregation Overview ID = 8374c433-e1b8-4601-a5db-109b76226da6\n",
      "Start time = 2024-05-16 08:31:21.530772+00:00\n",
      "End time = 2024-05-16 08:31:21.531775+00:00\n",
      "Successful example count = 2\n",
      "Count of examples crashed during evaluation = 0\n",
      "Description = \"ELO QA aggregation\"\n",
      "IDs of aggregated Evaluation Overviews = ['12e1b780-3360-4801-990c-512b9fb524a7']\n",
      "IDs of aggregated Run Overviews = ['74d288d3-7536-4a40-bfe4-ccc9b9e107b0', 'a63e12f6-ebf5-4c4d-a9b6-d58a45f07257']\n",
      "Statistics = {\n",
      "scores={'74d288d3-7536-4a40-bfe4-ccc9b9e107b0': PlayerScore(elo=1500.034342091151, elo_standard_error=0.05713369977028134, win_rate=0.5, num_matches=2), 'a63e12f6-ebf5-4c4d-a9b6-d58a45f07257': PlayerScore(elo=1499.965657908849, elo_standard_error=0.05713369977028134, win_rate=0.5, num_matches=2)}\n",
      "}\n",
      "\n"
     ]
    }
   ],
   "source": [
    "from intelligence_layer.evaluation import AggregatedEvaluation\n",
    "\n",
    "for aggregation_overview in aggregation_repository.aggregation_overviews(\n",
    "    AggregatedEvaluation\n",
    "):\n",
    "    print(aggregation_overview)"
   ]
  },
  {
   "cell_type": "markdown",
   "metadata": {},
   "source": [
    "# Step 4 Addition of New Models\n",
    "\n",
    "Now let us consider the case where we want to add new models to our existing evaluation.\n",
    "Since the comparison of answers is rather time-consuming, we want to avoid recalculating the evaluation for the previous models, and just compare the new models to the old ones.\n",
    "\n",
    "To do so, we first define the new models _\"luminous-base-control-v10\"_ and _\"luminous-supreme-control-v15\"_, and generate their answers."
   ]
  },
  {
   "cell_type": "code",
   "execution_count": 19,
   "metadata": {},
   "outputs": [
    {
     "name": "stderr",
     "output_type": "stream",
     "text": [
      "Running: 2it [00:10,  5.06s/it]\n",
      "Running: 2it [00:17,  8.70s/it]\n"
     ]
    }
   ],
   "source": [
    "newly_added_models = [\n",
    "    LuminousControlModel(name=\"luminous-base-control-20230501\", client=aa_client),\n",
    "    LuminousControlModel(name=\"luminous-supreme-control-20230501\", client=aa_client),\n",
    "]\n",
    "\n",
    "for model in newly_added_models:\n",
    "    runner = Runner[\n",
    "        SingleChunkQaInput, SingleChunkQaOutput\n",
    "    ](\n",
    "        task=SingleChunkQa(model),\n",
    "        dataset_repository=dataset_repository,\n",
    "        run_repository=run_repository,\n",
    "        description=f\"New QA with model {model.name}\",  # used to query for new runs only later in the code\n",
    "    )\n",
    "    runner.run_dataset(dataset_id)"
   ]
  },
  {
   "cell_type": "code",
   "execution_count": 20,
   "metadata": {},
   "outputs": [],
   "source": [
    "# ensure that all examples succeeded\n",
    "for run_overview in run_repository.run_overviews():\n",
    "    assert (\n",
    "        run_overview.failed_example_count == 0\n",
    "    ), f\"There are failed runs for run overview ID {run_overview.id}\""
   ]
  },
  {
   "cell_type": "code",
   "execution_count": 21,
   "metadata": {},
   "outputs": [
    {
     "name": "stdout",
     "output_type": "stream",
     "text": [
      "Run Overview ID = 1fe9f33e-4e07-4e4b-a258-891aae660991\n",
      "Dataset ID = d99a3aff-619d-422b-8d69-daf5513b3942\n",
      "Start time = 2024-05-16 08:31:21.542825+00:00\n",
      "End time = 2024-05-16 08:31:31.664710+00:00\n",
      "Failed example count = 0\n",
      "Successful example count = 2\n",
      "Description = \"New QA with model luminous-base-control-20230501\"\n",
      "\n",
      "Run Overview ID = 9470d56c-e6f0-4e9c-af25-cbd381c36a3a\n",
      "Dataset ID = d99a3aff-619d-422b-8d69-daf5513b3942\n",
      "Start time = 2024-05-16 08:31:31.664870+00:00\n",
      "End time = 2024-05-16 08:31:49.058983+00:00\n",
      "Failed example count = 0\n",
      "Successful example count = 2\n",
      "Description = \"New QA with model luminous-supreme-control-20230501\"\n",
      "\n"
     ]
    }
   ],
   "source": [
    "for run_overview in run_repository.run_overviews():\n",
    "    # skip runs done for previous models\n",
    "    if not run_overview.description.startswith(\"New\"):\n",
    "        continue\n",
    "    # print runs for the added models\n",
    "    print(run_overview)"
   ]
  },
  {
   "cell_type": "markdown",
   "metadata": {},
   "source": [
    "To evaluate the new models against the previous models, we define a new evaluator that has an additional parameter `high_priority_runs`.\n",
    "To limit the evaluator to comparisons where one of the answers is generated by a new model, we add the run_ids of the new models to `high_priority_runs`.\n",
    "This way, the previous models are not compared against each other again."
   ]
  },
  {
   "cell_type": "code",
   "execution_count": 22,
   "metadata": {},
   "outputs": [
    {
     "data": {
      "text/plain": [
       "['1fe9f33e-4e07-4e4b-a258-891aae660991',\n",
       " '74d288d3-7536-4a40-bfe4-ccc9b9e107b0',\n",
       " '9470d56c-e6f0-4e9c-af25-cbd381c36a3a',\n",
       " 'a63e12f6-ebf5-4c4d-a9b6-d58a45f07257']"
      ]
     },
     "execution_count": 22,
     "metadata": {},
     "output_type": "execute_result"
    }
   ],
   "source": [
    "run_repository.run_overview_ids()"
   ]
  },
  {
   "cell_type": "code",
   "execution_count": 23,
   "metadata": {},
   "outputs": [
    {
     "data": {
      "text/plain": [
       "'12e1b780-3360-4801-990c-512b9fb524a7'"
      ]
     },
     "execution_count": 23,
     "metadata": {},
     "output_type": "execute_result"
    }
   ],
   "source": [
    "evaluation_overview.id"
   ]
  },
  {
   "cell_type": "code",
   "execution_count": 24,
   "metadata": {},
   "outputs": [
    {
     "name": "stdout",
     "output_type": "stream",
     "text": [
      "PAIRSPAIRS <itertools.combinations object at 0x33ff9aac0>\n",
      "PLAYER A:  9470d56c-e6f0-4e9c-af25-cbd381c36a3a\n",
      "PLAYER B:  1fe9f33e-4e07-4e4b-a258-891aae660991\n",
      "example_id:  d91ae806-31bf-4e92-a40f-6a560dc68a95\n",
      "______________________\n",
      " <itertools.combinations object at 0x33ff9a340>\n",
      "PLAYER A:  9470d56c-e6f0-4e9c-af25-cbd381c36a3a\n",
      "PLAYER B:  1fe9f33e-4e07-4e4b-a258-891aae660991\n",
      "example_id:  87012cf8-1b98-4c9f-8a5f-815aa0e76edb\n",
      "______________________\n"
     ]
    },
    {
     "name": "stderr",
     "output_type": "stream",
     "text": [
      "Evaluating: 0it [00:00, ?it/s]"
     ]
    },
    {
     "name": "stdout",
     "output_type": "stream",
     "text": [
      "PLAYER A:  9470d56c-e6f0-4e9c-af25-cbd381c36a3a\n",
      "PLAYER B:  74d288d3-7536-4a40-bfe4-ccc9b9e107b0\n",
      "example_id:  d91ae806-31bf-4e92-a40f-6a560dc68a95\n",
      "______________________\n",
      "PLAYER A:  9470d56c-e6f0-4e9c-af25-cbd381c36a3a\n",
      "PLAYER B:  a63e12f6-ebf5-4c4d-a9b6-d58a45f07257\n",
      "example_id:  d91ae806-31bf-4e92-a40f-6a560dc68a95\n",
      "______________________\n",
      "PLAYER A:  9470d56c-e6f0-4e9c-af25-cbd381c36a3a\n",
      "PLAYER B:  74d288d3-7536-4a40-bfe4-ccc9b9e107b0\n",
      "example_id:  87012cf8-1b98-4c9f-8a5f-815aa0e76edb\n",
      "______________________\n",
      "PLAYER A:  1fe9f33e-4e07-4e4b-a258-891aae660991\n",
      "PLAYER B:  74d288d3-7536-4a40-bfe4-ccc9b9e107b0\n",
      "example_id:  d91ae806-31bf-4e92-a40f-6a560dc68a95\n",
      "______________________\n",
      "PLAYER A:  9470d56c-e6f0-4e9c-af25-cbd381c36a3a\n",
      "PLAYER B:  a63e12f6-ebf5-4c4d-a9b6-d58a45f07257\n",
      "example_id:  87012cf8-1b98-4c9f-8a5f-815aa0e76edb\n",
      "______________________\n",
      "PLAYER A:  1fe9f33e-4e07-4e4b-a258-891aae660991\n",
      "PLAYER B:  a63e12f6-ebf5-4c4d-a9b6-d58a45f07257\n",
      "example_id:  d91ae806-31bf-4e92-a40f-6a560dc68a95\n",
      "______________________\n",
      "PLAYER A:  1fe9f33e-4e07-4e4b-a258-891aae660991\n",
      "PLAYER B:  74d288d3-7536-4a40-bfe4-ccc9b9e107b0\n",
      "example_id:  87012cf8-1b98-4c9f-8a5f-815aa0e76edb\n",
      "______________________\n",
      "PLAYER A:  1fe9f33e-4e07-4e4b-a258-891aae660991\n",
      "PLAYER B:  a63e12f6-ebf5-4c4d-a9b6-d58a45f07257\n",
      "example_id:  87012cf8-1b98-4c9f-8a5f-815aa0e76edb\n",
      "______________________\n"
     ]
    },
    {
     "name": "stderr",
     "output_type": "stream",
     "text": [
      "Evaluating: 2it [00:04,  2.44s/it]\n"
     ]
    }
   ],
   "source": [
    "\n",
    "\n",
    "\n",
    "new_evaluation_overview = evaluator.evaluate_additional_runs(\n",
    "    *run_repository.run_overview_ids(),\n",
    "    previous_evaluation_ids=[evaluation_overview.id]\n",
    ")"
   ]
  },
  {
   "cell_type": "code",
   "execution_count": 25,
   "metadata": {},
   "outputs": [
    {
     "name": "stdout",
     "output_type": "stream",
     "text": [
      "Evaluation Overview ID = 12e1b780-3360-4801-990c-512b9fb524a7\n",
      "Start time = 2024-05-16 08:31:20.812654+00:00\n",
      "End time = 2024-05-16 08:31:21.501250+00:00\n",
      "Successful examples = 2\n",
      "Failed examples = 0\n",
      "Description = \"ELO QA evaluation\"\n",
      "Run Overviews={\n",
      "Run Overview ID = 74d288d3-7536-4a40-bfe4-ccc9b9e107b0\n",
      "Dataset ID = d99a3aff-619d-422b-8d69-daf5513b3942\n",
      "Start time = 2024-05-16 08:30:42.168784+00:00\n",
      "End time = 2024-05-16 08:31:03.416546+00:00\n",
      "Failed example count = 0\n",
      "Successful example count = 2\n",
      "Description = \"QA with model luminous-base-control-20240215\"\n",
      ", Run Overview ID = a63e12f6-ebf5-4c4d-a9b6-d58a45f07257\n",
      "Dataset ID = d99a3aff-619d-422b-8d69-daf5513b3942\n",
      "Start time = 2024-05-16 08:31:03.417036+00:00\n",
      "End time = 2024-05-16 08:31:20.775926+00:00\n",
      "Failed example count = 0\n",
      "Successful example count = 2\n",
      "Description = \"QA with model luminous-supreme-control-20240215\"\n",
      "}\n",
      "\n",
      "_____________________\n",
      "Evaluation Overview ID = 063b3257-9712-4b95-b3ca-68e6dc8034e0\n",
      "Start time = 2024-05-16 08:31:49.091557+00:00\n",
      "End time = 2024-05-16 08:31:53.978176+00:00\n",
      "Successful examples = 2\n",
      "Failed examples = 0\n",
      "Description = \"ELO QA evaluation\"\n",
      "Run Overviews={\n",
      "Run Overview ID = 1fe9f33e-4e07-4e4b-a258-891aae660991\n",
      "Dataset ID = d99a3aff-619d-422b-8d69-daf5513b3942\n",
      "Start time = 2024-05-16 08:31:21.542825+00:00\n",
      "End time = 2024-05-16 08:31:31.664710+00:00\n",
      "Failed example count = 0\n",
      "Successful example count = 2\n",
      "Description = \"New QA with model luminous-base-control-20230501\"\n",
      ", Run Overview ID = 9470d56c-e6f0-4e9c-af25-cbd381c36a3a\n",
      "Dataset ID = d99a3aff-619d-422b-8d69-daf5513b3942\n",
      "Start time = 2024-05-16 08:31:31.664870+00:00\n",
      "End time = 2024-05-16 08:31:49.058983+00:00\n",
      "Failed example count = 0\n",
      "Successful example count = 2\n",
      "Description = \"New QA with model luminous-supreme-control-20230501\"\n",
      ", Run Overview ID = 74d288d3-7536-4a40-bfe4-ccc9b9e107b0\n",
      "Dataset ID = d99a3aff-619d-422b-8d69-daf5513b3942\n",
      "Start time = 2024-05-16 08:30:42.168784+00:00\n",
      "End time = 2024-05-16 08:31:03.416546+00:00\n",
      "Failed example count = 0\n",
      "Successful example count = 2\n",
      "Description = \"QA with model luminous-base-control-20240215\"\n",
      ", Run Overview ID = a63e12f6-ebf5-4c4d-a9b6-d58a45f07257\n",
      "Dataset ID = d99a3aff-619d-422b-8d69-daf5513b3942\n",
      "Start time = 2024-05-16 08:31:03.417036+00:00\n",
      "End time = 2024-05-16 08:31:20.775926+00:00\n",
      "Failed example count = 0\n",
      "Successful example count = 2\n",
      "Description = \"QA with model luminous-supreme-control-20240215\"\n",
      "}\n",
      "\n"
     ]
    }
   ],
   "source": [
    "print(evaluation_overview)\n",
    "print('_____________________')\n",
    "print(new_evaluation_overview)"
   ]
  },
  {
   "cell_type": "code",
   "execution_count": 26,
   "metadata": {},
   "outputs": [],
   "source": [
    "# ensure that for each example there are evaluated comparisons\n",
    "for example_evaluation in evaluation_repository.example_evaluations(\n",
    "    new_evaluation_overview.id, Matches\n",
    "):\n",
    "    assert isinstance(example_evaluation.result, Matches)\n",
    "    assert (\n",
    "        len(example_evaluation.result.comparison_evaluations) > 0\n",
    "    ), f\"There are no matches (comparisons) for example ID {example_evaluation.example_id}\"\n"
   ]
  },
  {
   "cell_type": "markdown",
   "metadata": {},
   "source": [
    "In addition to the previous `evaluation_overview`, we now also have the newly generated `new_evaluation_overview` which includes our new model.\n",
    "Finally, the aggregated evaluation of all models is calculated by passing in the evaluation ids of both evaluations into `aggregate_evaluation`. By doing so, the previously calculated ELO scores will be updated with the comparisons to the new models' answers."
   ]
  },
  {
   "cell_type": "code",
   "execution_count": 27,
   "metadata": {},
   "outputs": [
    {
     "name": "stdout",
     "output_type": "stream",
     "text": [
      "Evaluation overviews to aggregate: ['063b3257-9712-4b95-b3ca-68e6dc8034e0', '12e1b780-3360-4801-990c-512b9fb524a7']\n"
     ]
    }
   ],
   "source": [
    "# get the IDs of all the evaluation overviews which we created for the QA task\n",
    "evaluation_overview_ids = [\n",
    "    evaluation_overview.id\n",
    "    for evaluation_overview in evaluation_repository.evaluation_overviews()\n",
    "    if evaluation_overview.description.find(\"QA\")\n",
    "]\n",
    "print(f\"Evaluation overviews to aggregate: {evaluation_overview_ids}\")"
   ]
  },
  {
   "cell_type": "code",
   "execution_count": 28,
   "metadata": {},
   "outputs": [],
   "source": [
    "# run the aggregation\n",
    "aggregated_evaluation_with_new_model = aggregator.aggregate_evaluation(\n",
    "    *evaluation_overview_ids\n",
    ")"
   ]
  },
  {
   "cell_type": "code",
   "execution_count": 29,
   "metadata": {},
   "outputs": [],
   "source": [
    "# ensure that there are no failed (aggregated) evaluations\n",
    "assert (\n",
    "    aggregated_evaluation_with_new_model.crashed_during_evaluation_count == 0\n",
    "), f\"There are crashed evaluations for aggregated evaluation ID {aggregated_evaluation.id}\"\n",
    "assert (\n",
    "    aggregated_evaluation_with_new_model.failed_evaluation_count == 0\n",
    "), f\"There are failed evaluations for aggregated evaluation ID {aggregated_evaluation.id}\"\n",
    "# ensure that we result contains ELO scores\n",
    "assert hasattr(\n",
    "    aggregated_evaluation_with_new_model.statistics, \"scores\"\n",
    "), f\"There are no scores for aggregated evaluation ID {aggregated_evaluation.id}\""
   ]
  },
  {
   "cell_type": "markdown",
   "metadata": {},
   "source": [
    "A look at the new aggregated evaluation shows that the new model have been added to the evaluation:"
   ]
  },
  {
   "cell_type": "code",
   "execution_count": 30,
   "metadata": {},
   "outputs": [
    {
     "name": "stdout",
     "output_type": "stream",
     "text": [
      "Aggregation Overview ID = 29a2316d-47b3-4aa8-a8c2-5983f1b072de\n",
      "Start time = 2024-05-16 08:31:54.005689+00:00\n",
      "End time = 2024-05-16 08:31:54.008595+00:00\n",
      "Successful example count = 4\n",
      "Count of examples crashed during evaluation = 0\n",
      "Description = \"ELO QA aggregation\"\n",
      "IDs of aggregated Evaluation Overviews = ['063b3257-9712-4b95-b3ca-68e6dc8034e0', '12e1b780-3360-4801-990c-512b9fb524a7']\n",
      "IDs of aggregated Run Overviews = ['1fe9f33e-4e07-4e4b-a258-891aae660991', '9470d56c-e6f0-4e9c-af25-cbd381c36a3a', '74d288d3-7536-4a40-bfe4-ccc9b9e107b0', 'a63e12f6-ebf5-4c4d-a9b6-d58a45f07257']\n",
      "Statistics = {\n",
      "scores={'9470d56c-e6f0-4e9c-af25-cbd381c36a3a': PlayerScore(elo=1499.9627526168383, elo_standard_error=0.17735549496891068, win_rate=0.5, num_matches=6), '1fe9f33e-4e07-4e4b-a258-891aae660991': PlayerScore(elo=1536.6164246453945, elo_standard_error=0.11725579512845279, win_rate=0.8333333333333334, num_matches=6), '74d288d3-7536-4a40-bfe4-ccc9b9e107b0': PlayerScore(elo=1481.9272029297929, elo_standard_error=0.16086469782787777, win_rate=0.3333333333333333, num_matches=6), 'a63e12f6-ebf5-4c4d-a9b6-d58a45f07257': PlayerScore(elo=1481.493191730659, elo_standard_error=0.15735532722704, win_rate=0.3333333333333333, num_matches=6)}\n",
      "}\n",
      "\n"
     ]
    }
   ],
   "source": [
    "print(aggregated_evaluation_with_new_model)"
   ]
  },
  {
   "cell_type": "code",
   "execution_count": null,
   "metadata": {},
   "outputs": [],
   "source": []
  }
 ],
 "metadata": {
  "kernelspec": {
   "display_name": "intelligence-layer-tfT-HG2V-py3.11",
   "language": "python",
   "name": "python3"
  },
  "language_info": {
   "codemirror_mode": {
    "name": "ipython",
    "version": 3
   },
   "file_extension": ".py",
   "mimetype": "text/x-python",
   "name": "python",
   "nbconvert_exporter": "python",
   "pygments_lexer": "ipython3",
   "version": "3.11.8"
  }
 },
 "nbformat": 4,
 "nbformat_minor": 2
}
